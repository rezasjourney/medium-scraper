{
 "cells": [
  {
   "cell_type": "code",
   "execution_count": 1,
   "metadata": {},
   "outputs": [
    {
     "name": "stderr",
     "output_type": "stream",
     "text": [
      "/home/reza/projects/medium-scraper/.venv/lib/python3.6/site-packages/pandas/compat/__init__.py:117: UserWarning: Could not import the lzma module. Your installed Python is incomplete. Attempting to use lzma compression will result in a RuntimeError.\n",
      "  warnings.warn(msg)\n"
     ]
    }
   ],
   "source": [
    "import glob\n",
    "import pandas as pd"
   ]
  },
  {
   "cell_type": "code",
   "execution_count": 2,
   "metadata": {},
   "outputs": [],
   "source": [
    "def clean_claps(x):\n",
    "    if x[-1] == 'K':\n",
    "        return int(float(x[:-1]) * 1000)\n",
    "    else:\n",
    "        return int(x)"
   ]
  },
  {
   "cell_type": "code",
   "execution_count": 3,
   "metadata": {},
   "outputs": [],
   "source": [
    "def fix_title(title, url):\n",
    "    tokens = url.split('/')[-1].split('-')[:-1]\n",
    "    title = ' '.join(tokens).capitalize()\n",
    "    return title"
   ]
  },
  {
   "cell_type": "code",
   "execution_count": 4,
   "metadata": {},
   "outputs": [],
   "source": [
    "def fix_author(author, url):\n",
    "    return url.split('/')[-2].replace('_', ' ').replace('-', ' ').strip().title()"
   ]
  },
  {
   "cell_type": "code",
   "execution_count": 5,
   "metadata": {},
   "outputs": [],
   "source": [
    "filenames = glob.glob(\"../data/raw/*.csv\")\n",
    "frames = [pd.read_csv(f) for f in filenames]\n",
    "medium = pd.concat(frames)"
   ]
  },
  {
   "cell_type": "code",
   "execution_count": 6,
   "metadata": {},
   "outputs": [],
   "source": [
    "# Make column names lowercase\n",
    "old = medium.columns.tolist()\n",
    "new = [col.lower() for col in old]\n",
    "colmap = dict(zip(old, new))\n",
    "medium.rename(columns=colmap, inplace=True)"
   ]
  },
  {
   "cell_type": "code",
   "execution_count": 7,
   "metadata": {},
   "outputs": [
    {
     "data": {
      "text/html": [
       "<div>\n",
       "<style scoped>\n",
       "    .dataframe tbody tr th:only-of-type {\n",
       "        vertical-align: middle;\n",
       "    }\n",
       "\n",
       "    .dataframe tbody tr th {\n",
       "        vertical-align: top;\n",
       "    }\n",
       "\n",
       "    .dataframe thead th {\n",
       "        text-align: right;\n",
       "    }\n",
       "</style>\n",
       "<table border=\"1\" class=\"dataframe\">\n",
       "  <thead>\n",
       "    <tr style=\"text-align: right;\">\n",
       "      <th></th>\n",
       "      <th>title</th>\n",
       "      <th>subtitle</th>\n",
       "      <th>image</th>\n",
       "      <th>author</th>\n",
       "      <th>publication</th>\n",
       "      <th>year</th>\n",
       "      <th>month</th>\n",
       "      <th>day</th>\n",
       "      <th>tag</th>\n",
       "      <th>reading_time</th>\n",
       "      <th>claps</th>\n",
       "      <th>comment</th>\n",
       "      <th>url</th>\n",
       "      <th>author_url</th>\n",
       "    </tr>\n",
       "  </thead>\n",
       "  <tbody>\n",
       "    <tr>\n",
       "      <th>0</th>\n",
       "      <td>Our Ongoing Analytics Project with the NFL: Wi...</td>\n",
       "      <td>by Michael Watson</td>\n",
       "      <td>0</td>\n",
       "      <td>Opex Analytics</td>\n",
       "      <td>The Opex Analytics Blog</td>\n",
       "      <td>2014</td>\n",
       "      <td>4</td>\n",
       "      <td>1</td>\n",
       "      <td>data-science</td>\n",
       "      <td>3</td>\n",
       "      <td>0</td>\n",
       "      <td>0</td>\n",
       "      <td>https://medium.com/opex-analytics/our-ongoing-...</td>\n",
       "      <td>https://medium.com/@OpexAnalytics?source=tag_a...</td>\n",
       "    </tr>\n",
       "    <tr>\n",
       "      <th>1</th>\n",
       "      <td>Benefits of Map Portals for Your Analytics Pro...</td>\n",
       "      <td>by Michael Watson</td>\n",
       "      <td>0</td>\n",
       "      <td>Opex Analytics</td>\n",
       "      <td>The Opex Analytics Blog</td>\n",
       "      <td>2014</td>\n",
       "      <td>4</td>\n",
       "      <td>3</td>\n",
       "      <td>data-science</td>\n",
       "      <td>1</td>\n",
       "      <td>0</td>\n",
       "      <td>0</td>\n",
       "      <td>https://medium.com/opex-analytics/benefits-of-...</td>\n",
       "      <td>https://medium.com/@OpexAnalytics?source=tag_a...</td>\n",
       "    </tr>\n",
       "    <tr>\n",
       "      <th>2</th>\n",
       "      <td>Data Inference: Drinking With the Dude</td>\n",
       "      <td>A guide to detecting biases in your data.</td>\n",
       "      <td>1</td>\n",
       "      <td>Tapad Engineering</td>\n",
       "      <td>Tapad Engineering</td>\n",
       "      <td>2014</td>\n",
       "      <td>4</td>\n",
       "      <td>8</td>\n",
       "      <td>data-science</td>\n",
       "      <td>7</td>\n",
       "      <td>1</td>\n",
       "      <td>0</td>\n",
       "      <td>https://engineering.tapad.com/data-inference-d...</td>\n",
       "      <td>https://engineering.tapad.com/@tapadeng?source...</td>\n",
       "    </tr>\n",
       "    <tr>\n",
       "      <th>3</th>\n",
       "      <td>WSJ Article on the Importance of Analytics to ...</td>\n",
       "      <td>by Michael Watson</td>\n",
       "      <td>0</td>\n",
       "      <td>Opex Analytics</td>\n",
       "      <td>The Opex Analytics Blog</td>\n",
       "      <td>2014</td>\n",
       "      <td>4</td>\n",
       "      <td>11</td>\n",
       "      <td>data-science</td>\n",
       "      <td>1</td>\n",
       "      <td>0</td>\n",
       "      <td>0</td>\n",
       "      <td>https://medium.com/opex-analytics/wsj-article-...</td>\n",
       "      <td>https://medium.com/@OpexAnalytics?source=tag_a...</td>\n",
       "    </tr>\n",
       "    <tr>\n",
       "      <th>4</th>\n",
       "      <td>Sample Custom Optimization Scheduling Problem</td>\n",
       "      <td>by Prateek Rastogi</td>\n",
       "      <td>0</td>\n",
       "      <td>Opex Analytics</td>\n",
       "      <td>The Opex Analytics Blog</td>\n",
       "      <td>2014</td>\n",
       "      <td>4</td>\n",
       "      <td>14</td>\n",
       "      <td>data-science</td>\n",
       "      <td>1</td>\n",
       "      <td>0</td>\n",
       "      <td>0</td>\n",
       "      <td>https://medium.com/opex-analytics/sample-custo...</td>\n",
       "      <td>https://medium.com/@OpexAnalytics?source=tag_a...</td>\n",
       "    </tr>\n",
       "  </tbody>\n",
       "</table>\n",
       "</div>"
      ],
      "text/plain": [
       "                                               title  \\\n",
       "0  Our Ongoing Analytics Project with the NFL: Wi...   \n",
       "1  Benefits of Map Portals for Your Analytics Pro...   \n",
       "2             Data Inference: Drinking With the Dude   \n",
       "3  WSJ Article on the Importance of Analytics to ...   \n",
       "4      Sample Custom Optimization Scheduling Problem   \n",
       "\n",
       "                                    subtitle  image             author  \\\n",
       "0                          by Michael Watson      0     Opex Analytics   \n",
       "1                          by Michael Watson      0     Opex Analytics   \n",
       "2  A guide to detecting biases in your data.      1  Tapad Engineering   \n",
       "3                          by Michael Watson      0     Opex Analytics   \n",
       "4                         by Prateek Rastogi      0     Opex Analytics   \n",
       "\n",
       "               publication  year  month  day           tag  reading_time  \\\n",
       "0  The Opex Analytics Blog  2014      4    1  data-science             3   \n",
       "1  The Opex Analytics Blog  2014      4    3  data-science             1   \n",
       "2        Tapad Engineering  2014      4    8  data-science             7   \n",
       "3  The Opex Analytics Blog  2014      4   11  data-science             1   \n",
       "4  The Opex Analytics Blog  2014      4   14  data-science             1   \n",
       "\n",
       "  claps  comment                                                url  \\\n",
       "0     0        0  https://medium.com/opex-analytics/our-ongoing-...   \n",
       "1     0        0  https://medium.com/opex-analytics/benefits-of-...   \n",
       "2     1        0  https://engineering.tapad.com/data-inference-d...   \n",
       "3     0        0  https://medium.com/opex-analytics/wsj-article-...   \n",
       "4     0        0  https://medium.com/opex-analytics/sample-custo...   \n",
       "\n",
       "                                          author_url  \n",
       "0  https://medium.com/@OpexAnalytics?source=tag_a...  \n",
       "1  https://medium.com/@OpexAnalytics?source=tag_a...  \n",
       "2  https://engineering.tapad.com/@tapadeng?source...  \n",
       "3  https://medium.com/@OpexAnalytics?source=tag_a...  \n",
       "4  https://medium.com/@OpexAnalytics?source=tag_a...  "
      ]
     },
     "execution_count": 7,
     "metadata": {},
     "output_type": "execute_result"
    }
   ],
   "source": [
    "medium.head()"
   ]
  },
  {
   "cell_type": "code",
   "execution_count": 8,
   "metadata": {},
   "outputs": [
    {
     "data": {
      "text/plain": [
       "title           object\n",
       "subtitle        object\n",
       "image            int64\n",
       "author          object\n",
       "publication     object\n",
       "year             int64\n",
       "month            int64\n",
       "day              int64\n",
       "tag             object\n",
       "reading_time     int64\n",
       "claps           object\n",
       "comment          int64\n",
       "url             object\n",
       "author_url      object\n",
       "dtype: object"
      ]
     },
     "execution_count": 8,
     "metadata": {},
     "output_type": "execute_result"
    }
   ],
   "source": [
    "medium.dtypes"
   ]
  },
  {
   "cell_type": "code",
   "execution_count": 9,
   "metadata": {},
   "outputs": [
    {
     "name": "stdout",
     "output_type": "stream",
     "text": [
      "Total entries: 77432\n"
     ]
    }
   ],
   "source": [
    "print(f'Total entries: {medium.shape[0]}')"
   ]
  },
  {
   "cell_type": "code",
   "execution_count": 10,
   "metadata": {},
   "outputs": [],
   "source": [
    "# Remove duplicates\n",
    "medium.drop_duplicates(inplace=True, ignore_index=True)"
   ]
  },
  {
   "cell_type": "code",
   "execution_count": 11,
   "metadata": {},
   "outputs": [
    {
     "name": "stdout",
     "output_type": "stream",
     "text": [
      "Deduped entries: 77309\n"
     ]
    }
   ],
   "source": [
    "print(f'Deduped entries: {medium.shape[0]}')"
   ]
  },
  {
   "cell_type": "code",
   "execution_count": 12,
   "metadata": {},
   "outputs": [],
   "source": [
    "# Clean claps\n",
    "medium['claps'] = medium['claps'].apply(clean_claps)"
   ]
  },
  {
   "cell_type": "code",
   "execution_count": 13,
   "metadata": {},
   "outputs": [],
   "source": [
    "# Remove comments\n",
    "medium = medium[medium['comment']==0].reset_index(drop=True)"
   ]
  },
  {
   "cell_type": "code",
   "execution_count": 14,
   "metadata": {},
   "outputs": [
    {
     "name": "stdout",
     "output_type": "stream",
     "text": [
      "Non-comment entries: 74586\n"
     ]
    }
   ],
   "source": [
    "print(f'Non-comment entries: {medium.shape[0]}')"
   ]
  },
  {
   "cell_type": "code",
   "execution_count": 15,
   "metadata": {},
   "outputs": [],
   "source": [
    "# Clean up URLs\n",
    "medium['url'] = medium['url'].str.split('?', expand=True).iloc[:, 0]\n",
    "medium['author_url'] = medium['author_url'].str.split('?', expand=True).iloc[:, 0]"
   ]
  },
  {
   "cell_type": "code",
   "execution_count": 16,
   "metadata": {},
   "outputs": [],
   "source": [
    "# Fix null titles\n",
    "medium['fake_title'] = 0\n",
    "medium.loc[medium['title'].isnull(), 'fake_title'] = 1\n",
    "medium.loc[medium['fake_title'] == 1, 'title'] = medium.apply(lambda x: fix_title(x['title'], x['url']), axis=1)"
   ]
  },
  {
   "cell_type": "code",
   "execution_count": 17,
   "metadata": {},
   "outputs": [],
   "source": [
    "# Fix null authors\n",
    "medium['fake_author'] = 0\n",
    "medium.loc[medium['author'].isnull(), 'fake_author'] = 1\n",
    "medium.loc[medium['fake_author'] == 1, 'author'] = medium.apply(lambda x: fix_author(x['author'], x['url']), axis=1)"
   ]
  },
  {
   "cell_type": "code",
   "execution_count": 18,
   "metadata": {},
   "outputs": [
    {
     "data": {
      "text/plain": [
       "title               0\n",
       "subtitle        26607\n",
       "image               0\n",
       "author              0\n",
       "publication     37143\n",
       "year                0\n",
       "month               0\n",
       "day                 0\n",
       "tag                 0\n",
       "reading_time        0\n",
       "claps               0\n",
       "comment             0\n",
       "url                 0\n",
       "author_url         48\n",
       "fake_title          0\n",
       "fake_author         0\n",
       "dtype: int64"
      ]
     },
     "execution_count": 18,
     "metadata": {},
     "output_type": "execute_result"
    }
   ],
   "source": [
    "medium.isnull().sum()"
   ]
  },
  {
   "cell_type": "code",
   "execution_count": 19,
   "metadata": {},
   "outputs": [],
   "source": [
    "# Add article date\n",
    "medium['date'] = pd.to_datetime(medium[['year', 'month', 'day']])"
   ]
  },
  {
   "cell_type": "code",
   "execution_count": 20,
   "metadata": {},
   "outputs": [],
   "source": [
    "# Save clean data\n",
    "medium.to_csv('../data/processed/medium.csv', index=False)"
   ]
  },
  {
   "cell_type": "code",
   "execution_count": 1,
   "metadata": {},
   "outputs": [
    {
     "name": "stderr",
     "output_type": "stream",
     "text": [
      "/home/reza/projects/medium-scraper/.venv/lib/python3.6/site-packages/pandas/compat/__init__.py:117: UserWarning: Could not import the lzma module. Your installed Python is incomplete. Attempting to use lzma compression will result in a RuntimeError.\n",
      "  warnings.warn(msg)\n"
     ]
    }
   ],
   "source": [
    "import glob\n",
    "import pandas as pd\n",
    "import numpy as np\n",
    "import matplotlib.pyplot as plt"
   ]
  },
  {
   "cell_type": "code",
   "execution_count": 2,
   "metadata": {},
   "outputs": [],
   "source": [
    "def clean_claps(x):\n",
    "    if x[-1] == 'K':\n",
    "        return int(float(x[:-1]) * 1000)\n",
    "    else:\n",
    "        return int(x)"
   ]
  },
  {
   "cell_type": "code",
   "execution_count": 3,
   "metadata": {},
   "outputs": [],
   "source": [
    "def fix_title(title, url):\n",
    "    tokens = url.split('/')[-1].split('-')[:-1]\n",
    "    title = ' '.join(tokens).capitalize()\n",
    "    return title"
   ]
  },
  {
   "cell_type": "code",
   "execution_count": 4,
   "metadata": {},
   "outputs": [],
   "source": [
    "def fix_author(author, url):\n",
    "    return url.split('/')[-2].replace('_', ' ').replace('-', ' ').strip().title()"
   ]
  },
  {
   "cell_type": "code",
   "execution_count": 5,
   "metadata": {},
   "outputs": [],
   "source": [
    "filenames = glob.glob(\"../data/raw/*.csv\")\n",
    "frames = [pd.read_csv(f) for f in filenames]\n",
    "medium = pd.concat(frames)"
   ]
  },
  {
   "cell_type": "code",
   "execution_count": 6,
   "metadata": {},
   "outputs": [],
   "source": [
    "# Make column names lowercase\n",
    "old = medium.columns.tolist()\n",
    "new = [col.lower() for col in old]\n",
    "colmap = dict(zip(old, new))\n",
    "medium.rename(columns=colmap, inplace=True)"
   ]
  },
  {
   "cell_type": "code",
   "execution_count": 7,
   "metadata": {},
   "outputs": [
    {
     "data": {
      "text/html": [
       "<div>\n",
       "<style scoped>\n",
       "    .dataframe tbody tr th:only-of-type {\n",
       "        vertical-align: middle;\n",
       "    }\n",
       "\n",
       "    .dataframe tbody tr th {\n",
       "        vertical-align: top;\n",
       "    }\n",
       "\n",
       "    .dataframe thead th {\n",
       "        text-align: right;\n",
       "    }\n",
       "</style>\n",
       "<table border=\"1\" class=\"dataframe\">\n",
       "  <thead>\n",
       "    <tr style=\"text-align: right;\">\n",
       "      <th></th>\n",
       "      <th>title</th>\n",
       "      <th>subtitle</th>\n",
       "      <th>image</th>\n",
       "      <th>author</th>\n",
       "      <th>publication</th>\n",
       "      <th>year</th>\n",
       "      <th>month</th>\n",
       "      <th>day</th>\n",
       "      <th>tag</th>\n",
       "      <th>reading_time</th>\n",
       "      <th>claps</th>\n",
       "      <th>comment</th>\n",
       "      <th>url</th>\n",
       "      <th>author_url</th>\n",
       "    </tr>\n",
       "  </thead>\n",
       "  <tbody>\n",
       "    <tr>\n",
       "      <th>0</th>\n",
       "      <td>Our Ongoing Analytics Project with the NFL: Wi...</td>\n",
       "      <td>by Michael Watson</td>\n",
       "      <td>0</td>\n",
       "      <td>Opex Analytics</td>\n",
       "      <td>The Opex Analytics Blog</td>\n",
       "      <td>2014</td>\n",
       "      <td>4</td>\n",
       "      <td>1</td>\n",
       "      <td>data-science</td>\n",
       "      <td>3</td>\n",
       "      <td>0</td>\n",
       "      <td>0</td>\n",
       "      <td>https://medium.com/opex-analytics/our-ongoing-...</td>\n",
       "      <td>https://medium.com/@OpexAnalytics?source=tag_a...</td>\n",
       "    </tr>\n",
       "    <tr>\n",
       "      <th>1</th>\n",
       "      <td>Benefits of Map Portals for Your Analytics Pro...</td>\n",
       "      <td>by Michael Watson</td>\n",
       "      <td>0</td>\n",
       "      <td>Opex Analytics</td>\n",
       "      <td>The Opex Analytics Blog</td>\n",
       "      <td>2014</td>\n",
       "      <td>4</td>\n",
       "      <td>3</td>\n",
       "      <td>data-science</td>\n",
       "      <td>1</td>\n",
       "      <td>0</td>\n",
       "      <td>0</td>\n",
       "      <td>https://medium.com/opex-analytics/benefits-of-...</td>\n",
       "      <td>https://medium.com/@OpexAnalytics?source=tag_a...</td>\n",
       "    </tr>\n",
       "    <tr>\n",
       "      <th>2</th>\n",
       "      <td>Data Inference: Drinking With the Dude</td>\n",
       "      <td>A guide to detecting biases in your data.</td>\n",
       "      <td>1</td>\n",
       "      <td>Tapad Engineering</td>\n",
       "      <td>Tapad Engineering</td>\n",
       "      <td>2014</td>\n",
       "      <td>4</td>\n",
       "      <td>8</td>\n",
       "      <td>data-science</td>\n",
       "      <td>7</td>\n",
       "      <td>1</td>\n",
       "      <td>0</td>\n",
       "      <td>https://engineering.tapad.com/data-inference-d...</td>\n",
       "      <td>https://engineering.tapad.com/@tapadeng?source...</td>\n",
       "    </tr>\n",
       "    <tr>\n",
       "      <th>3</th>\n",
       "      <td>WSJ Article on the Importance of Analytics to ...</td>\n",
       "      <td>by Michael Watson</td>\n",
       "      <td>0</td>\n",
       "      <td>Opex Analytics</td>\n",
       "      <td>The Opex Analytics Blog</td>\n",
       "      <td>2014</td>\n",
       "      <td>4</td>\n",
       "      <td>11</td>\n",
       "      <td>data-science</td>\n",
       "      <td>1</td>\n",
       "      <td>0</td>\n",
       "      <td>0</td>\n",
       "      <td>https://medium.com/opex-analytics/wsj-article-...</td>\n",
       "      <td>https://medium.com/@OpexAnalytics?source=tag_a...</td>\n",
       "    </tr>\n",
       "    <tr>\n",
       "      <th>4</th>\n",
       "      <td>Sample Custom Optimization Scheduling Problem</td>\n",
       "      <td>by Prateek Rastogi</td>\n",
       "      <td>0</td>\n",
       "      <td>Opex Analytics</td>\n",
       "      <td>The Opex Analytics Blog</td>\n",
       "      <td>2014</td>\n",
       "      <td>4</td>\n",
       "      <td>14</td>\n",
       "      <td>data-science</td>\n",
       "      <td>1</td>\n",
       "      <td>0</td>\n",
       "      <td>0</td>\n",
       "      <td>https://medium.com/opex-analytics/sample-custo...</td>\n",
       "      <td>https://medium.com/@OpexAnalytics?source=tag_a...</td>\n",
       "    </tr>\n",
       "  </tbody>\n",
       "</table>\n",
       "</div>"
      ],
      "text/plain": [
       "                                               title  \\\n",
       "0  Our Ongoing Analytics Project with the NFL: Wi...   \n",
       "1  Benefits of Map Portals for Your Analytics Pro...   \n",
       "2             Data Inference: Drinking With the Dude   \n",
       "3  WSJ Article on the Importance of Analytics to ...   \n",
       "4      Sample Custom Optimization Scheduling Problem   \n",
       "\n",
       "                                    subtitle  image             author  \\\n",
       "0                          by Michael Watson      0     Opex Analytics   \n",
       "1                          by Michael Watson      0     Opex Analytics   \n",
       "2  A guide to detecting biases in your data.      1  Tapad Engineering   \n",
       "3                          by Michael Watson      0     Opex Analytics   \n",
       "4                         by Prateek Rastogi      0     Opex Analytics   \n",
       "\n",
       "               publication  year  month  day           tag  reading_time  \\\n",
       "0  The Opex Analytics Blog  2014      4    1  data-science             3   \n",
       "1  The Opex Analytics Blog  2014      4    3  data-science             1   \n",
       "2        Tapad Engineering  2014      4    8  data-science             7   \n",
       "3  The Opex Analytics Blog  2014      4   11  data-science             1   \n",
       "4  The Opex Analytics Blog  2014      4   14  data-science             1   \n",
       "\n",
       "  claps  comment                                                url  \\\n",
       "0     0        0  https://medium.com/opex-analytics/our-ongoing-...   \n",
       "1     0        0  https://medium.com/opex-analytics/benefits-of-...   \n",
       "2     1        0  https://engineering.tapad.com/data-inference-d...   \n",
       "3     0        0  https://medium.com/opex-analytics/wsj-article-...   \n",
       "4     0        0  https://medium.com/opex-analytics/sample-custo...   \n",
       "\n",
       "                                          author_url  \n",
       "0  https://medium.com/@OpexAnalytics?source=tag_a...  \n",
       "1  https://medium.com/@OpexAnalytics?source=tag_a...  \n",
       "2  https://engineering.tapad.com/@tapadeng?source...  \n",
       "3  https://medium.com/@OpexAnalytics?source=tag_a...  \n",
       "4  https://medium.com/@OpexAnalytics?source=tag_a...  "
      ]
     },
     "execution_count": 7,
     "metadata": {},
     "output_type": "execute_result"
    }
   ],
   "source": [
    "medium.head()"
   ]
  },
  {
   "cell_type": "code",
   "execution_count": 8,
   "metadata": {},
   "outputs": [
    {
     "data": {
      "text/plain": [
       "title           object\n",
       "subtitle        object\n",
       "image            int64\n",
       "author          object\n",
       "publication     object\n",
       "year             int64\n",
       "month            int64\n",
       "day              int64\n",
       "tag             object\n",
       "reading_time     int64\n",
       "claps           object\n",
       "comment          int64\n",
       "url             object\n",
       "author_url      object\n",
       "dtype: object"
      ]
     },
     "execution_count": 8,
     "metadata": {},
     "output_type": "execute_result"
    }
   ],
   "source": [
    "medium.dtypes"
   ]
  },
  {
   "cell_type": "code",
   "execution_count": 9,
   "metadata": {},
   "outputs": [
    {
     "name": "stdout",
     "output_type": "stream",
     "text": [
      "Total entries: 77432\n"
     ]
    }
   ],
   "source": [
    "print(f'Total entries: {medium.shape[0]}')"
   ]
  },
  {
   "cell_type": "code",
   "execution_count": 10,
   "metadata": {},
   "outputs": [],
   "source": [
    "# Remove duplicates\n",
    "medium.drop_duplicates(inplace=True, ignore_index=True)"
   ]
  },
  {
   "cell_type": "code",
   "execution_count": 11,
   "metadata": {},
   "outputs": [
    {
     "name": "stdout",
     "output_type": "stream",
     "text": [
      "Deduped entries: 77309\n"
     ]
    }
   ],
   "source": [
    "print(f'Deduped entries: {medium.shape[0]}')"
   ]
  },
  {
   "cell_type": "code",
   "execution_count": 12,
   "metadata": {},
   "outputs": [],
   "source": [
    "# Clean claps\n",
    "medium['claps'] = medium['claps'].apply(clean_claps)"
   ]
  },
  {
   "cell_type": "code",
   "execution_count": 13,
   "metadata": {},
   "outputs": [],
   "source": [
    "# Remove comments\n",
    "medium = medium[medium['comment']==0].reset_index(drop=True)"
   ]
  },
  {
   "cell_type": "code",
   "execution_count": 14,
   "metadata": {},
   "outputs": [
    {
     "name": "stdout",
     "output_type": "stream",
     "text": [
      "Non-comment entries: 74586\n"
     ]
    }
   ],
   "source": [
    "print(f'Non-comment entries: {medium.shape[0]}')"
   ]
  },
  {
   "cell_type": "code",
   "execution_count": 15,
   "metadata": {},
   "outputs": [],
   "source": [
    "# Clean up URLs\n",
    "medium['url'] = medium['url'].str.split('?', expand=True).iloc[:, 0]\n",
    "medium['author_url'] = medium['author_url'].str.split('?', expand=True).iloc[:, 0]"
   ]
  },
  {
   "cell_type": "code",
   "execution_count": 16,
   "metadata": {},
   "outputs": [],
   "source": [
    "# Fix null titles\n",
    "medium['fake_title'] = 0\n",
    "medium.loc[medium['title'].isnull(), 'fake_title'] = 1\n",
    "medium.loc[medium['fake_title'] == 1, 'title'] = medium.apply(lambda x: fix_title(x['title'], x['url']), axis=1)"
   ]
  },
  {
   "cell_type": "code",
   "execution_count": 17,
   "metadata": {},
   "outputs": [],
   "source": [
    "# Fix null authors\n",
    "medium['fake_author'] = 0\n",
    "medium.loc[medium['author'].isnull(), 'fake_author'] = 1\n",
    "medium.loc[medium['fake_author'] == 1, 'author'] = medium.apply(lambda x: fix_author(x['author'], x['url']), axis=1)"
   ]
  },
  {
   "cell_type": "code",
   "execution_count": 18,
   "metadata": {},
   "outputs": [
    {
     "data": {
      "text/plain": [
       "title               0\n",
       "subtitle        26607\n",
       "image               0\n",
       "author              0\n",
       "publication     37143\n",
       "year                0\n",
       "month               0\n",
       "day                 0\n",
       "tag                 0\n",
       "reading_time        0\n",
       "claps               0\n",
       "comment             0\n",
       "url                 0\n",
       "author_url         48\n",
       "fake_title          0\n",
       "fake_author         0\n",
       "dtype: int64"
      ]
     },
     "execution_count": 18,
     "metadata": {},
     "output_type": "execute_result"
    }
   ],
   "source": [
    "medium.isnull().sum()"
   ]
  },
  {
   "cell_type": "code",
   "execution_count": 19,
   "metadata": {},
   "outputs": [],
   "source": [
    "# Add article date\n",
    "medium['date'] = pd.to_datetime(medium[['year', 'month', 'day']])"
   ]
  },
  {
   "cell_type": "code",
   "execution_count": 20,
   "metadata": {},
   "outputs": [],
   "source": [
    "# Save clean data\n",
    "medium.to_csv('../data/processed/medium.csv', index=False)"
   ]
  }
 ],
 "metadata": {
  "kernelspec": {
   "display_name": "Python 3",
   "language": "python",
   "name": "python3"
  },
  "language_info": {
   "codemirror_mode": {
    "name": "ipython",
    "version": 3
   },
   "file_extension": ".py",
   "mimetype": "text/x-python",
   "name": "python",
   "nbconvert_exporter": "python",
   "pygments_lexer": "ipython3",
   "version": "3.6.10"
  }
 },
 "nbformat": 4,
 "nbformat_minor": 4
}
