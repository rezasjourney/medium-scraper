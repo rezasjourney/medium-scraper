{
 "cells": [
  {
   "cell_type": "code",
   "execution_count": 1,
   "metadata": {},
   "outputs": [
    {
     "name": "stderr",
     "output_type": "stream",
     "text": [
      "/home/reza/projects/medium-scraper/.venv/lib/python3.6/site-packages/pandas/compat/__init__.py:117: UserWarning: Could not import the lzma module. Your installed Python is incomplete. Attempting to use lzma compression will result in a RuntimeError.\n",
      "  warnings.warn(msg)\n"
     ]
    }
   ],
   "source": [
    "import pandas as pd\n",
    "import numpy as np\n",
    "import matplotlib.pyplot as plt"
   ]
  },
  {
   "cell_type": "code",
   "execution_count": 2,
   "metadata": {},
   "outputs": [],
   "source": [
    "medium = pd.read_csv('../data/processed/medium.csv')"
   ]
  },
  {
   "cell_type": "code",
   "execution_count": 3,
   "metadata": {},
   "outputs": [],
   "source": [
    "# Sort by claps\n",
    "medium.sort_values(by='claps', ascending=False, ignore_index=True, inplace=True)"
   ]
  },
  {
   "cell_type": "code",
   "execution_count": 4,
   "metadata": {},
   "outputs": [
    {
     "data": {
      "text/html": [
       "<div>\n",
       "<style scoped>\n",
       "    .dataframe tbody tr th:only-of-type {\n",
       "        vertical-align: middle;\n",
       "    }\n",
       "\n",
       "    .dataframe tbody tr th {\n",
       "        vertical-align: top;\n",
       "    }\n",
       "\n",
       "    .dataframe thead th {\n",
       "        text-align: right;\n",
       "    }\n",
       "</style>\n",
       "<table border=\"1\" class=\"dataframe\">\n",
       "  <thead>\n",
       "    <tr style=\"text-align: right;\">\n",
       "      <th></th>\n",
       "      <th>title</th>\n",
       "      <th>subtitle</th>\n",
       "      <th>image</th>\n",
       "      <th>author</th>\n",
       "      <th>publication</th>\n",
       "      <th>year</th>\n",
       "      <th>month</th>\n",
       "      <th>day</th>\n",
       "      <th>tag</th>\n",
       "      <th>reading_time</th>\n",
       "      <th>claps</th>\n",
       "      <th>comment</th>\n",
       "      <th>url</th>\n",
       "      <th>author_url</th>\n",
       "      <th>fake_title</th>\n",
       "      <th>fake_author</th>\n",
       "      <th>date</th>\n",
       "    </tr>\n",
       "  </thead>\n",
       "  <tbody>\n",
       "    <tr>\n",
       "      <th>0</th>\n",
       "      <td>Design better data tables</td>\n",
       "      <td>The ingredients of a successful data table UI</td>\n",
       "      <td>1</td>\n",
       "      <td>Andrew Coyle</td>\n",
       "      <td>UX Collective</td>\n",
       "      <td>2017</td>\n",
       "      <td>5</td>\n",
       "      <td>7</td>\n",
       "      <td>data-science</td>\n",
       "      <td>4</td>\n",
       "      <td>53000</td>\n",
       "      <td>0</td>\n",
       "      <td>https://uxdesign.cc/design-better-data-tables-4ecc99d23356</td>\n",
       "      <td>https://uxdesign.cc/@CoyleAndrew</td>\n",
       "      <td>0</td>\n",
       "      <td>0</td>\n",
       "      <td>2017-05-07</td>\n",
       "    </tr>\n",
       "    <tr>\n",
       "      <th>1</th>\n",
       "      <td>Artificial IntelligenceThe Revolution Hasnt Happened Yet</td>\n",
       "      <td>NaN</td>\n",
       "      <td>1</td>\n",
       "      <td>Michael Jordan</td>\n",
       "      <td>NaN</td>\n",
       "      <td>2018</td>\n",
       "      <td>4</td>\n",
       "      <td>19</td>\n",
       "      <td>data-science</td>\n",
       "      <td>16</td>\n",
       "      <td>50000</td>\n",
       "      <td>0</td>\n",
       "      <td>https://medium.com/@mijordan3/artificial-intelligence-the-revolution-hasnt-happened-yet-5e1d5812e1e7</td>\n",
       "      <td>https://medium.com/@mijordan3</td>\n",
       "      <td>0</td>\n",
       "      <td>0</td>\n",
       "      <td>2018-04-19</td>\n",
       "    </tr>\n",
       "    <tr>\n",
       "      <th>2</th>\n",
       "      <td>Why so many data scientists are leaving their jobs</td>\n",
       "      <td>Frustrations of the data scientist!</td>\n",
       "      <td>1</td>\n",
       "      <td>Jonny Brooks-Bartlett</td>\n",
       "      <td>Towards Data Science</td>\n",
       "      <td>2018</td>\n",
       "      <td>3</td>\n",
       "      <td>28</td>\n",
       "      <td>data-science</td>\n",
       "      <td>8</td>\n",
       "      <td>47000</td>\n",
       "      <td>0</td>\n",
       "      <td>https://towardsdatascience.com/why-so-many-data-scientists-are-leaving-their-jobs-a1f0329d7ea4</td>\n",
       "      <td>https://towardsdatascience.com/@jonnybrooks04</td>\n",
       "      <td>0</td>\n",
       "      <td>0</td>\n",
       "      <td>2018-03-28</td>\n",
       "    </tr>\n",
       "    <tr>\n",
       "      <th>3</th>\n",
       "      <td>What exactly can you do with Python? Here are Pythons 3 main applications.</td>\n",
       "      <td>NaN</td>\n",
       "      <td>1</td>\n",
       "      <td>YK Sugi</td>\n",
       "      <td>Towards Data Science</td>\n",
       "      <td>2018</td>\n",
       "      <td>6</td>\n",
       "      <td>15</td>\n",
       "      <td>data-science</td>\n",
       "      <td>10</td>\n",
       "      <td>42000</td>\n",
       "      <td>0</td>\n",
       "      <td>https://towardsdatascience.com/what-can-you-do-with-python-the-3-main-applications-518db9a68a78</td>\n",
       "      <td>https://towardsdatascience.com/@ykdojo</td>\n",
       "      <td>0</td>\n",
       "      <td>0</td>\n",
       "      <td>2018-06-15</td>\n",
       "    </tr>\n",
       "    <tr>\n",
       "      <th>4</th>\n",
       "      <td>How to build your own Neural Network from scratch in Python</td>\n",
       "      <td>A beginners guide to understanding the</td>\n",
       "      <td>1</td>\n",
       "      <td>James Loy</td>\n",
       "      <td>Towards Data Science</td>\n",
       "      <td>2018</td>\n",
       "      <td>5</td>\n",
       "      <td>14</td>\n",
       "      <td>data-science</td>\n",
       "      <td>7</td>\n",
       "      <td>41000</td>\n",
       "      <td>0</td>\n",
       "      <td>https://towardsdatascience.com/how-to-build-your-own-neural-network-from-scratch-in-python-68998a08e4f6</td>\n",
       "      <td>https://towardsdatascience.com/@jamesloyys</td>\n",
       "      <td>0</td>\n",
       "      <td>0</td>\n",
       "      <td>2018-05-14</td>\n",
       "    </tr>\n",
       "  </tbody>\n",
       "</table>\n",
       "</div>"
      ],
      "text/plain": [
       "                                                                        title  \\\n",
       "0                                                   Design better data tables   \n",
       "1                    Artificial IntelligenceThe Revolution Hasnt Happened Yet   \n",
       "2                          Why so many data scientists are leaving their jobs   \n",
       "3  What exactly can you do with Python? Here are Pythons 3 main applications.   \n",
       "4                 How to build your own Neural Network from scratch in Python   \n",
       "\n",
       "                                        subtitle  image  \\\n",
       "0  The ingredients of a successful data table UI      1   \n",
       "1                                            NaN      1   \n",
       "2            Frustrations of the data scientist!      1   \n",
       "3                                            NaN      1   \n",
       "4         A beginners guide to understanding the      1   \n",
       "\n",
       "                  author           publication  year  month  day  \\\n",
       "0           Andrew Coyle         UX Collective  2017      5    7   \n",
       "1         Michael Jordan                   NaN  2018      4   19   \n",
       "2  Jonny Brooks-Bartlett  Towards Data Science  2018      3   28   \n",
       "3                YK Sugi  Towards Data Science  2018      6   15   \n",
       "4              James Loy  Towards Data Science  2018      5   14   \n",
       "\n",
       "            tag  reading_time  claps  comment  \\\n",
       "0  data-science             4  53000        0   \n",
       "1  data-science            16  50000        0   \n",
       "2  data-science             8  47000        0   \n",
       "3  data-science            10  42000        0   \n",
       "4  data-science             7  41000        0   \n",
       "\n",
       "                                                                                                       url  \\\n",
       "0                                               https://uxdesign.cc/design-better-data-tables-4ecc99d23356   \n",
       "1     https://medium.com/@mijordan3/artificial-intelligence-the-revolution-hasnt-happened-yet-5e1d5812e1e7   \n",
       "2           https://towardsdatascience.com/why-so-many-data-scientists-are-leaving-their-jobs-a1f0329d7ea4   \n",
       "3          https://towardsdatascience.com/what-can-you-do-with-python-the-3-main-applications-518db9a68a78   \n",
       "4  https://towardsdatascience.com/how-to-build-your-own-neural-network-from-scratch-in-python-68998a08e4f6   \n",
       "\n",
       "                                      author_url  fake_title  fake_author  \\\n",
       "0               https://uxdesign.cc/@CoyleAndrew           0            0   \n",
       "1                  https://medium.com/@mijordan3           0            0   \n",
       "2  https://towardsdatascience.com/@jonnybrooks04           0            0   \n",
       "3         https://towardsdatascience.com/@ykdojo           0            0   \n",
       "4     https://towardsdatascience.com/@jamesloyys           0            0   \n",
       "\n",
       "         date  \n",
       "0  2017-05-07  \n",
       "1  2018-04-19  \n",
       "2  2018-03-28  \n",
       "3  2018-06-15  \n",
       "4  2018-05-14  "
      ]
     },
     "execution_count": 4,
     "metadata": {},
     "output_type": "execute_result"
    }
   ],
   "source": [
    "pd.set_option('display.max_colwidth', None)\n",
    "medium.head()"
   ]
  },
  {
   "cell_type": "code",
   "execution_count": 5,
   "metadata": {},
   "outputs": [
    {
     "name": "stdout",
     "output_type": "stream",
     "text": [
      "Article ranging from 2014-04-01 to 2020-04-01\n"
     ]
    }
   ],
   "source": [
    "print(f'Article ranging from {medium.date.min()} to {medium.date.max()}')"
   ]
  },
  {
   "cell_type": "code",
   "execution_count": 6,
   "metadata": {
    "scrolled": false
   },
   "outputs": [
    {
     "data": {
      "text/html": [
       "<div>\n",
       "<style scoped>\n",
       "    .dataframe tbody tr th:only-of-type {\n",
       "        vertical-align: middle;\n",
       "    }\n",
       "\n",
       "    .dataframe tbody tr th {\n",
       "        vertical-align: top;\n",
       "    }\n",
       "\n",
       "    .dataframe thead th {\n",
       "        text-align: right;\n",
       "    }\n",
       "</style>\n",
       "<table border=\"1\" class=\"dataframe\">\n",
       "  <thead>\n",
       "    <tr style=\"text-align: right;\">\n",
       "      <th></th>\n",
       "      <th>publication</th>\n",
       "      <th>claps</th>\n",
       "    </tr>\n",
       "  </thead>\n",
       "  <tbody>\n",
       "    <tr>\n",
       "      <th>4492</th>\n",
       "      <td>Towards Data Science</td>\n",
       "      <td>12520</td>\n",
       "    </tr>\n",
       "    <tr>\n",
       "      <th>306</th>\n",
       "      <td>Analytics Vidhya</td>\n",
       "      <td>1663</td>\n",
       "    </tr>\n",
       "    <tr>\n",
       "      <th>1132</th>\n",
       "      <td>Data Driven Investor</td>\n",
       "      <td>1055</td>\n",
       "    </tr>\n",
       "    <tr>\n",
       "      <th>4393</th>\n",
       "      <td>The Startup</td>\n",
       "      <td>550</td>\n",
       "    </tr>\n",
       "    <tr>\n",
       "      <th>2056</th>\n",
       "      <td>HackerNoon.com</td>\n",
       "      <td>418</td>\n",
       "    </tr>\n",
       "    <tr>\n",
       "      <th>528</th>\n",
       "      <td>Better Programming</td>\n",
       "      <td>287</td>\n",
       "    </tr>\n",
       "    <tr>\n",
       "      <th>5204</th>\n",
       "      <td>learn data science</td>\n",
       "      <td>267</td>\n",
       "    </tr>\n",
       "    <tr>\n",
       "      <th>4236</th>\n",
       "      <td>The Circular Theory</td>\n",
       "      <td>254</td>\n",
       "    </tr>\n",
       "    <tr>\n",
       "      <th>5103</th>\n",
       "      <td>freeCodeCamp.org</td>\n",
       "      <td>247</td>\n",
       "    </tr>\n",
       "    <tr>\n",
       "      <th>500</th>\n",
       "      <td>Becoming Human: Artificial Intelligence Magazine</td>\n",
       "      <td>229</td>\n",
       "    </tr>\n",
       "  </tbody>\n",
       "</table>\n",
       "</div>"
      ],
      "text/plain": [
       "                                           publication  claps\n",
       "4492                              Towards Data Science  12520\n",
       "306                                   Analytics Vidhya   1663\n",
       "1132                              Data Driven Investor   1055\n",
       "4393                                       The Startup    550\n",
       "2056                                    HackerNoon.com    418\n",
       "528                                 Better Programming    287\n",
       "5204                                learn data science    267\n",
       "4236                               The Circular Theory    254\n",
       "5103                                  freeCodeCamp.org    247\n",
       "500   Becoming Human: Artificial Intelligence Magazine    229"
      ]
     },
     "execution_count": 6,
     "metadata": {},
     "output_type": "execute_result"
    }
   ],
   "source": [
    "medium.groupby('publication').count()[['claps']].reset_index().sort_values(by='claps', ascending=False).head(10)"
   ]
  },
  {
   "cell_type": "code",
   "execution_count": 7,
   "metadata": {},
   "outputs": [
    {
     "data": {
      "text/html": [
       "<div>\n",
       "<style scoped>\n",
       "    .dataframe tbody tr th:only-of-type {\n",
       "        vertical-align: middle;\n",
       "    }\n",
       "\n",
       "    .dataframe tbody tr th {\n",
       "        vertical-align: top;\n",
       "    }\n",
       "\n",
       "    .dataframe thead th {\n",
       "        text-align: right;\n",
       "    }\n",
       "</style>\n",
       "<table border=\"1\" class=\"dataframe\">\n",
       "  <thead>\n",
       "    <tr style=\"text-align: right;\">\n",
       "      <th></th>\n",
       "      <th>publication</th>\n",
       "      <th>reading_time</th>\n",
       "    </tr>\n",
       "  </thead>\n",
       "  <tbody>\n",
       "    <tr>\n",
       "      <th>0</th>\n",
       "      <td></td>\n",
       "      <td>6.059908</td>\n",
       "    </tr>\n",
       "    <tr>\n",
       "      <th>1</th>\n",
       "      <td>Code States</td>\n",
       "      <td>5.000000</td>\n",
       "    </tr>\n",
       "    <tr>\n",
       "      <th>2</th>\n",
       "      <td>D.Bang</td>\n",
       "      <td>4.000000</td>\n",
       "    </tr>\n",
       "    <tr>\n",
       "      <th>3</th>\n",
       "      <td>Island Story</td>\n",
       "      <td>9.000000</td>\n",
       "    </tr>\n",
       "    <tr>\n",
       "      <th>4</th>\n",
       "      <td>101</td>\n",
       "      <td>3.000000</td>\n",
       "    </tr>\n",
       "    <tr>\n",
       "      <th>...</th>\n",
       "      <td>...</td>\n",
       "      <td>...</td>\n",
       "    </tr>\n",
       "    <tr>\n",
       "      <th>5499</th>\n",
       "      <td>zephyrfoundation</td>\n",
       "      <td>2.333333</td>\n",
       "    </tr>\n",
       "    <tr>\n",
       "      <th>5500</th>\n",
       "      <td>zero point noise</td>\n",
       "      <td>10.000000</td>\n",
       "    </tr>\n",
       "    <tr>\n",
       "      <th>5501</th>\n",
       "      <td>zero-to</td>\n",
       "      <td>3.000000</td>\n",
       "    </tr>\n",
       "    <tr>\n",
       "      <th>5502</th>\n",
       "      <td>zungybungy</td>\n",
       "      <td>0.500000</td>\n",
       "    </tr>\n",
       "    <tr>\n",
       "      <th>5503</th>\n",
       "      <td>{ Below :The_bit }</td>\n",
       "      <td>1.000000</td>\n",
       "    </tr>\n",
       "  </tbody>\n",
       "</table>\n",
       "<p>5504 rows × 2 columns</p>\n",
       "</div>"
      ],
      "text/plain": [
       "             publication  reading_time\n",
       "0                             6.059908\n",
       "1           Code States       5.000000\n",
       "2                 D.Bang      4.000000\n",
       "3           Island Story      9.000000\n",
       "4                    101      3.000000\n",
       "...                  ...           ...\n",
       "5499    zephyrfoundation      2.333333\n",
       "5500    zero point noise     10.000000\n",
       "5501             zero-to      3.000000\n",
       "5502          zungybungy      0.500000\n",
       "5503  { Below :The_bit }      1.000000\n",
       "\n",
       "[5504 rows x 2 columns]"
      ]
     },
     "execution_count": 7,
     "metadata": {},
     "output_type": "execute_result"
    }
   ],
   "source": [
    "medium.groupby('publication').mean()[['reading_time']].reset_index()"
   ]
  },
  {
   "cell_type": "markdown",
   "metadata": {},
   "source": [
    "Let's calculate the mean and median number of claps of all articles, only Towards Data Science article and non-Towards Data Sciene Articles."
   ]
  },
  {
   "cell_type": "code",
   "execution_count": 8,
   "metadata": {},
   "outputs": [
    {
     "name": "stdout",
     "output_type": "stream",
     "text": [
      "146.0836752205508\n",
      "11.0\n"
     ]
    }
   ],
   "source": [
    "print(medium['claps'].mean())\n",
    "print(medium['claps'].median())"
   ]
  },
  {
   "cell_type": "code",
   "execution_count": 9,
   "metadata": {},
   "outputs": [
    {
     "name": "stdout",
     "output_type": "stream",
     "text": [
      "427.92547923322684\n",
      "137.0\n"
     ]
    }
   ],
   "source": [
    "print(medium.loc[medium['publication'] == 'Towards Data Science', 'claps'].mean())\n",
    "print(medium.loc[medium['publication'] == 'Towards Data Science', 'claps'].median())"
   ]
  },
  {
   "cell_type": "code",
   "execution_count": 10,
   "metadata": {},
   "outputs": [
    {
     "name": "stdout",
     "output_type": "stream",
     "text": [
      "89.23033544936035\n",
      "4.0\n"
     ]
    }
   ],
   "source": [
    "print(medium.loc[medium['publication'] != 'Towards Data Science', 'claps'].mean())\n",
    "print(medium.loc[medium['publication'] != 'Towards Data Science', 'claps'].median())"
   ]
  },
  {
   "cell_type": "markdown",
   "metadata": {},
   "source": [
    "The numbers show that there is a significant jump in both mean and median article claps when an article is published in Towards Data Science. This is not suprising given the influence and large reader base of Towards Data Science"
   ]
  },
  {
   "cell_type": "markdown",
   "metadata": {},
   "source": [
    "Next we want to explore whether there is a relationship between reading time of an article and the number of claps it gets"
   ]
  },
  {
   "cell_type": "code",
   "execution_count": 11,
   "metadata": {},
   "outputs": [
    {
     "data": {
      "text/plain": [
       "<matplotlib.collections.PathCollection at 0x7f1a20abcf60>"
      ]
     },
     "execution_count": 11,
     "metadata": {},
     "output_type": "execute_result"
    },
    {
     "data": {
      "image/png": "[encoded data removed]",
      "text/plain": [
       "<Figure size 1152x720 with 1 Axes>"
      ]
     },
     "metadata": {
      "needs_background": "light"
     },
     "output_type": "display_data"
    }
   ],
   "source": [
    "fig, ax = plt.subplots(1, 1, figsize=(16, 10))\n",
    "ax.scatter(medium.reading_time, medium.claps)"
   ]
  },
  {
   "cell_type": "markdown",
   "metadata": {},
   "source": [
    "The following function let's you interavtively scroll through rows and columns in a dataframe without losing column headers"
   ]
  },
  {
   "cell_type": "code",
   "execution_count": 12,
   "metadata": {},
   "outputs": [],
   "source": [
    "from ipywidgets import interact, IntSlider\n",
    "from IPython.display import display\n",
    "\n",
    "def freeze_header(df, num_rows=30, num_columns=10, step_rows=1,\n",
    "                  step_columns=1):\n",
    "    \"\"\"\n",
    "    Freeze the headers (column and index names) of a Pandas DataFrame. A widget\n",
    "    enables to slide through the rows and columns.\n",
    "\n",
    "    Parameters\n",
    "    ----------\n",
    "    df : Pandas DataFrame\n",
    "        DataFrame to display\n",
    "    num_rows : int, optional\n",
    "        Number of rows to display\n",
    "    num_columns : int, optional\n",
    "        Number of columns to display\n",
    "    step_rows : int, optional\n",
    "        Step in the rows\n",
    "    step_columns : int, optional\n",
    "        Step in the columns\n",
    "\n",
    "    Returns\n",
    "    -------\n",
    "    Displays the DataFrame with the widget\n",
    "    \"\"\"\n",
    "    @interact(last_row=IntSlider(min=min(num_rows, df.shape[0]),\n",
    "                                 max=df.shape[0],\n",
    "                                 step=step_rows,\n",
    "                                 description='rows',\n",
    "                                 readout=False,\n",
    "                                 disabled=False,\n",
    "                                 continuous_update=True,\n",
    "                                 orientation='horizontal',\n",
    "                                 slider_color='purple'),\n",
    "              last_column=IntSlider(min=min(num_columns, df.shape[1]),\n",
    "                                    max=df.shape[1],\n",
    "                                    step=step_columns,\n",
    "                                    description='columns',\n",
    "                                    readout=False,\n",
    "                                    disabled=False,\n",
    "                                    continuous_update=True,\n",
    "                                    orientation='horizontal',\n",
    "                                    slider_color='purple'))\n",
    "    def _freeze_header(last_row, last_column):\n",
    "        display(df.iloc[max(0, last_row-num_rows):last_row,\n",
    "                        max(0, last_column-num_columns):last_column])"
   ]
  },
  {
   "cell_type": "markdown",
   "metadata": {},
   "source": [
    "Let's list all article published in 2019"
   ]
  },
  {
   "cell_type": "code",
   "execution_count": 13,
   "metadata": {},
   "outputs": [
    {
     "data": {
      "application/vnd.jupyter.widget-view+json": {
       "model_id": "1f90d37052d443edabae8993be458a29",
       "version_major": 2,
       "version_minor": 0
      },
      "text/plain": [
       "interactive(children=(IntSlider(value=10, description='rows', max=29945, min=10, readout=False, step=10), IntS…"
      ]
     },
     "metadata": {},
     "output_type": "display_data"
    }
   ],
   "source": [
    "df = medium.loc[medium['year'] == 2019, ['title', 'author', 'publication', 'reading_time', 'claps', 'date']].reset_index(drop=True)\n",
    "freeze_header(df, num_rows=10, step_rows=10)"
   ]
  },
  {
   "cell_type": "markdown",
   "metadata": {},
   "source": [
    "Let's scroll through articles by an author named `Will Koehrsen`"
   ]
  },
  {
   "cell_type": "code",
   "execution_count": 14,
   "metadata": {},
   "outputs": [
    {
     "data": {
      "application/vnd.jupyter.widget-view+json": {
       "model_id": "45220f81b09d4ada813221017a759b3f",
       "version_major": 2,
       "version_minor": 0
      },
      "text/plain": [
       "interactive(children=(IntSlider(value=10, description='rows', max=97, min=10, readout=False, step=10), IntSlid…"
      ]
     },
     "metadata": {},
     "output_type": "display_data"
    }
   ],
   "source": [
    "df = medium.loc[medium['author'] == 'Will Koehrsen', ['title', 'subtitle', 'publication', 'claps']].reset_index(drop=True)\n",
    "freeze_header(df, num_rows=10, step_rows=10)"
   ]
  },
  {
   "cell_type": "markdown",
   "metadata": {},
   "source": [
    "Next we want to look at articles that contain the word `cluster`"
   ]
  },
  {
   "cell_type": "code",
   "execution_count": 19,
   "metadata": {},
   "outputs": [
    {
     "data": {
      "application/vnd.jupyter.widget-view+json": {
       "model_id": "7ce97f7893a14c9094329b9996c0db4d",
       "version_major": 2,
       "version_minor": 0
      },
      "text/plain": [
       "interactive(children=(IntSlider(value=10, description='rows', max=290, min=10, readout=False, step=10), IntSli…"
      ]
     },
     "metadata": {},
     "output_type": "display_data"
    }
   ],
   "source": [
    "keyword = 'pipeline'\n",
    "df = medium.loc[medium['title'].str.lower().str.find(keyword) > -1, ['title', 'subtitle', 'publication', 'claps']].reset_index(drop=True)\n",
    "freeze_header(df, num_rows=10, step_rows=10)"
   ]
  },
  {
   "cell_type": "markdown",
   "metadata": {},
   "source": [
    "### Future Plans\n",
    "1. Clean up the codebase and publish it as a package\n",
    "1. Function to scrape tiles on an author's page"
   ]
  }
 ],
 "metadata": {
  "kernelspec": {
   "display_name": "Python 3",
   "language": "python",
   "name": "python3"
  },
  "language_info": {
   "codemirror_mode": {
    "name": "ipython",
    "version": 3
   },
   "file_extension": ".py",
   "mimetype": "text/x-python",
   "name": "python",
   "nbconvert_exporter": "python",
   "pygments_lexer": "ipython3",
   "version": "3.6.10"
  }
 },
 "nbformat": 4,
 "nbformat_minor": 4
}
